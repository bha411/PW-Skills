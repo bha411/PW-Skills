{
 "cells": [
  {
   "cell_type": "code",
   "execution_count": 1,
   "metadata": {},
   "outputs": [
    {
     "name": "stdout",
     "output_type": "stream",
     "text": [
      "Car: 2021 Toyota Camry\n"
     ]
    }
   ],
   "source": [
    "#2. Write a Python class for a Car with attributes for make, model, and year. Include a method to display the car's information.\n",
    "class Car:\n",
    "    def __init__(self, make, model, year):\n",
    "        self.make = make\n",
    "        self.model = model\n",
    "        self.year = year\n",
    "\n",
    "    def display_info(self):\n",
    "        print(f\"Car: {self.year} {self.make} {self.model}\")\n",
    "\n",
    "my_car = Car(\"Toyota\", \"Camry\", 2021)\n",
    "my_car.display_info()  \n"
   ]
  },
  {
   "cell_type": "code",
   "execution_count": 2,
   "metadata": {},
   "outputs": [
    {
     "name": "stdout",
     "output_type": "stream",
     "text": [
      "Instance method called, value is 10\n",
      "Class method called, class is Example\n"
     ]
    }
   ],
   "source": [
    "#3. Instance Methods vs Class Methods\n",
    "\n",
    "class Example:\n",
    "    def __init__(self, value):\n",
    "        self.value = value\n",
    "\n",
    "    # Instance method\n",
    "    def instance_method(self):\n",
    "        return f\"Instance method called, value is {self.value}\"\n",
    "\n",
    "    # Class method\n",
    "    @classmethod\n",
    "    def class_method(cls):\n",
    "        return f\"Class method called, class is {cls.__name__}\"\n",
    "\n",
    "# Example usage\n",
    "obj = Example(10)\n",
    "print(obj.instance_method()) \n",
    "print(Example.class_method()) \n"
   ]
  },
  {
   "cell_type": "code",
   "execution_count": 5,
   "metadata": {},
   "outputs": [
    {
     "name": "stdout",
     "output_type": "stream",
     "text": [
      "5\n",
      "9\n"
     ]
    }
   ],
   "source": [
    "#4.MAth operations\n",
    "class MathOperations:\n",
    "    def add(self, a, b, c=None):\n",
    "        if c is not None:\n",
    "            return a + b + c\n",
    "        else:\n",
    "            return a + b\n",
    "\n",
    "# Example usage\n",
    "op = MathOperations()\n",
    "print(op.add(2, 3))      \n",
    "print(op.add(2, 3, 4))  \n"
   ]
  },
  {
   "cell_type": "code",
   "execution_count": 7,
   "metadata": {},
   "outputs": [
    {
     "name": "stdout",
     "output_type": "stream",
     "text": [
      "I am public\n",
      "I am protected\n"
     ]
    },
    {
     "ename": "AttributeError",
     "evalue": "'Example' object has no attribute '__private_var'",
     "output_type": "error",
     "traceback": [
      "\u001b[1;31m---------------------------------------------------------------------------\u001b[0m",
      "\u001b[1;31mAttributeError\u001b[0m                            Traceback (most recent call last)",
      "Cell \u001b[1;32mIn[7], line 14\u001b[0m\n\u001b[0;32m     12\u001b[0m \u001b[38;5;28mprint\u001b[39m(obj\u001b[38;5;241m.\u001b[39mpublic_var)         \n\u001b[0;32m     13\u001b[0m \u001b[38;5;28mprint\u001b[39m(obj\u001b[38;5;241m.\u001b[39m_protected_var)   \n\u001b[1;32m---> 14\u001b[0m \u001b[38;5;28mprint\u001b[39m(obj\u001b[38;5;241m.\u001b[39m__private_var)\n",
      "\u001b[1;31mAttributeError\u001b[0m: 'Example' object has no attribute '__private_var'"
     ]
    }
   ],
   "source": [
    "#5. Access Modiefiers \n",
    "class Example:\n",
    "    public_var = \"I am public\"\n",
    "    _protected_var = \"I am protected\"\n",
    "    __private_var = \"I am private\"\n",
    "\n",
    "    def show_vars(self):\n",
    "        return self.public_var, self._protected_var, self.__private_var\n",
    "\n",
    "# Example usage\n",
    "obj = Example()\n",
    "print(obj.public_var)         \n",
    "print(obj._protected_var)   \n",
    "print(obj.__private_var)     "
   ]
  },
  {
   "cell_type": "code",
   "execution_count": 15,
   "metadata": {},
   "outputs": [
    {
     "name": "stdout",
     "output_type": "stream",
     "text": [
      "Parent1 method\n",
      "Parent2 method\n",
      "Animal speaks\n",
      "Dog barks\n",
      "Father speaks\n",
      "Mother cooks\n",
      "Child plays\n",
      "Animal eats\n",
      "Dog barks\n",
      "Puppy plays\n",
      "Animal speaks\n",
      "Dog barks\n",
      "Animal speaks\n",
      "Cat meows\n",
      "Animal speaks\n",
      "Dog barks\n",
      "Cat meows\n",
      "Pet plays\n"
     ]
    }
   ],
   "source": [
    "#6.Types of Inheritance\n",
    "##i)  Single Inheritance\n",
    "\n",
    "class Parent1:\n",
    "    def parent1_method(self):\n",
    "        return \"Parent1 method\"\n",
    "\n",
    "class Parent2:\n",
    "    def parent2_method(self):\n",
    "        return \"Parent2 method\"\n",
    "\n",
    "class Child(Parent1, Parent2):\n",
    "    pass\n",
    "\n",
    "# Example usage\n",
    "child = Child()\n",
    "print(child.parent1_method())  \n",
    "print(child.parent2_method()) \n",
    "\n",
    "\n",
    "\n",
    "\n",
    "##ii) Multiple Inheritance\n",
    "# Parent class\n",
    "class Animal:\n",
    "    def speak(self):\n",
    "        print(\"Animal speaks\")\n",
    "\n",
    "# Child class (inherits from Animal)\n",
    "class Dog(Animal):\n",
    "    def bark(self):\n",
    "        print(\"Dog barks\")\n",
    "\n",
    "# Example\n",
    "dog = Dog()\n",
    "dog.speak()  # Inherited method\n",
    "dog.bark()   # Child class method\n",
    "\n",
    "\n",
    "\n",
    "##iii) Multi-Level Inheritance\n",
    "# Parent class 1\n",
    "class Father:\n",
    "    def speak(self):\n",
    "        print(\"Father speaks\")\n",
    "\n",
    "# Parent class 2\n",
    "class Mother:\n",
    "    def cook(self):\n",
    "        print(\"Mother cooks\")\n",
    "\n",
    "# Child class (inherits from both Father and Mother)\n",
    "class Child(Father, Mother):\n",
    "    def play(self):\n",
    "        print(\"Child plays\")\n",
    "\n",
    "# Example\n",
    "child = Child()\n",
    "child.speak()  # Inherited from Father\n",
    "child.cook()   # Inherited from Mother\n",
    "child.play()   # Child class method\n",
    "\n",
    "\n",
    "\n",
    "##iv) Hierarchical Inheritance\n",
    "\n",
    "# Grandparent class\n",
    "class Animal:\n",
    "    def eat(self):\n",
    "        print(\"Animal eats\")\n",
    "\n",
    "# Parent class (inherits from Animal)\n",
    "class Dog(Animal):\n",
    "    def bark(self):\n",
    "        print(\"Dog barks\")\n",
    "\n",
    "# Child class (inherits from Dog)\n",
    "class Puppy(Dog):\n",
    "    def play(self):\n",
    "        print(\"Puppy plays\")\n",
    "\n",
    "# Example\n",
    "puppy = Puppy()\n",
    "puppy.eat()   # Inherited from Animal\n",
    "puppy.bark()  # Inherited from Dog\n",
    "puppy.play()  # Child class method\n",
    "\n",
    "\n",
    "\n",
    "##v)Hybrid Inheritance\n",
    "# Parent class\n",
    "class Animal:\n",
    "    def speak(self):\n",
    "        print(\"Animal speaks\")\n",
    "\n",
    "# Child class 1 (inherits from Animal)\n",
    "class Dog(Animal):\n",
    "    def bark(self):\n",
    "        print(\"Dog barks\")\n",
    "\n",
    "# Child class 2 (inherits from Animal)\n",
    "class Cat(Animal):\n",
    "    def meow(self):\n",
    "        print(\"Cat meows\")\n",
    "\n",
    "# Example\n",
    "dog = Dog()\n",
    "dog.speak()  # Inherited from Animal\n",
    "dog.bark()   # Dog class method\n",
    "\n",
    "cat = Cat()\n",
    "cat.speak()  # Inherited from Animal\n",
    "cat.meow()   # Cat class method\n",
    "\n",
    "\n",
    "\n",
    "# Parent class\n",
    "class Animal:\n",
    "    def speak(self):\n",
    "        print(\"Animal speaks\")\n",
    "\n",
    "# Child class 1 (inherits from Animal)\n",
    "class Dog(Animal):\n",
    "    def bark(self):\n",
    "        print(\"Dog barks\")\n",
    "\n",
    "# Child class 2 (inherits from Animal)\n",
    "class Cat(Animal):\n",
    "    def meow(self):\n",
    "        print(\"Cat meows\")\n",
    "\n",
    "# Grandchild class (inherits from Dog and Cat)\n",
    "class Pet(Dog, Cat):\n",
    "    def play(self):\n",
    "        print(\"Pet plays\")\n",
    "\n",
    "# Example\n",
    "pet = Pet()\n",
    "pet.speak()  # Inherited from Animal\n",
    "pet.bark()   # Inherited from Dog\n",
    "pet.meow()   # Inherited from Cat\n",
    "pet.play()   # Pet class method\n"
   ]
  },
  {
   "cell_type": "code",
   "execution_count": 17,
   "metadata": {},
   "outputs": [
    {
     "name": "stdout",
     "output_type": "stream",
     "text": [
      "(<class '__main__.C'>, <class '__main__.B'>, <class '__main__.A'>, <class 'object'>)\n"
     ]
    }
   ],
   "source": [
    "#7. Method resolution Order \n",
    "class A: pass\n",
    "class B(A): pass\n",
    "class C(B): pass\n",
    "\n",
    "print(C.__mro__)\n"
   ]
  },
  {
   "cell_type": "code",
   "execution_count": 19,
   "metadata": {},
   "outputs": [
    {
     "name": "stdout",
     "output_type": "stream",
     "text": [
      "78.53981633974483\n",
      "12\n"
     ]
    }
   ],
   "source": [
    "#8. Abstract base class Shape.\n",
    "from abc import ABC, abstractmethod\n",
    "import math\n",
    "\n",
    "class Shape(ABC):\n",
    "    @abstractmethod\n",
    "    def area(self):\n",
    "        pass\n",
    "\n",
    "class Circle(Shape):\n",
    "    def __init__(self, radius):\n",
    "        self.radius = radius\n",
    "    \n",
    "    def area(self):\n",
    "        return math.pi * self.radius ** 2\n",
    "\n",
    "class Rectangle(Shape):\n",
    "    def __init__(self, width, height):\n",
    "        self.width = width\n",
    "        self.height = height\n",
    "    \n",
    "    def area(self):\n",
    "        return self.width * self.height\n",
    "\n",
    "circle = Circle(5)\n",
    "rectangle = Rectangle(3, 4)\n",
    "print(circle.area())    \n",
    "print(rectangle.area())  \n"
   ]
  },
  {
   "cell_type": "code",
   "execution_count": 21,
   "metadata": {},
   "outputs": [
    {
     "name": "stdout",
     "output_type": "stream",
     "text": [
      "The area is 78.53981633974483\n",
      "The area is 12\n"
     ]
    }
   ],
   "source": [
    "#9. Polymorphism \n",
    "def print_area(shape):\n",
    "    print(f\"The area is {shape.area()}\")\n",
    "\n",
    "circle = Circle(5)\n",
    "rectangle = Rectangle(3, 4)\n",
    "print_area(circle)      \n",
    "print_area(rectangle)   \n"
   ]
  },
  {
   "cell_type": "code",
   "execution_count": 22,
   "metadata": {},
   "outputs": [
    {
     "name": "stdout",
     "output_type": "stream",
     "text": [
      "300\n"
     ]
    }
   ],
   "source": [
    "#10. Encapsulation\n",
    "class BankAccount:\n",
    "    def __init__(self, account_number, balance=0):\n",
    "        self.__account_number = account_number\n",
    "        self.__balance = balance\n",
    "    \n",
    "    def deposit(self, amount):\n",
    "        self.__balance += amount\n",
    "    \n",
    "    def withdraw(self, amount):\n",
    "        if amount <= self.__balance:\n",
    "            self.__balance -= amount\n",
    "        else:\n",
    "            print(\"Insufficient balance\")\n",
    "    \n",
    "    def get_balance(self):\n",
    "        return self.__balance\n",
    "\n",
    "account = BankAccount(\"123456\")\n",
    "account.deposit(500)\n",
    "account.withdraw(200)\n",
    "print(account.get_balance())  "
   ]
  },
  {
   "cell_type": "code",
   "execution_count": 23,
   "metadata": {},
   "outputs": [
    {
     "name": "stdout",
     "output_type": "stream",
     "text": [
      "Point(6, 8)\n"
     ]
    }
   ],
   "source": [
    "#11. Class tat overrides the __Str__ and __add__ magic methods.\n",
    "\n",
    "class Point:\n",
    "    def __init__(self, x, y):\n",
    "        self.x = x\n",
    "        self.y = y\n",
    "\n",
    "    def __str__(self):\n",
    "        return f\"Point({self.x}, {self.y})\"\n",
    "\n",
    "    def __add__(self, other):\n",
    "        return Point(self.x + other.x, self.y + other.y)\n",
    "\n",
    "p1 = Point(2, 3)\n",
    "p2 = Point(4, 5)\n",
    "p3 = p1 + p2\n",
    "print(p3) \n",
    "\n"
   ]
  },
  {
   "cell_type": "code",
   "execution_count": 25,
   "metadata": {},
   "outputs": [
    {
     "name": "stdout",
     "output_type": "stream",
     "text": [
      "Execution time: 2.0006966590881348 seconds\n",
      "Finished\n"
     ]
    }
   ],
   "source": [
    "#12. Decorator that measures and prints the elxecution time of a function.\n",
    "import time\n",
    "\n",
    "def timer_decorator(func):\n",
    "    def wrapper(*args, **kwargs):\n",
    "        start_time = time.time()\n",
    "        result = func(*args, **kwargs)\n",
    "        end_time = time.time()\n",
    "        print(f\"Execution time: {end_time - start_time} seconds\")\n",
    "        return result\n",
    "    return wrapper\n",
    "\n",
    "@timer_decorator\n",
    "def slow_function():\n",
    "    time.sleep(2)\n",
    "    return \"Finished\"\n",
    "print(slow_function()) \n"
   ]
  },
  {
   "cell_type": "code",
   "execution_count": 41,
   "metadata": {},
   "outputs": [
    {
     "name": "stdout",
     "output_type": "stream",
     "text": [
      "Class A\n",
      "Class B\n",
      "Class C\n",
      "Class B\n"
     ]
    }
   ],
   "source": [
    "class A:\n",
    "    def display(self):\n",
    "        print(\"Class A\")\n",
    "\n",
    "class B(A):\n",
    "    def display(self):\n",
    "        print(\"Class B\")\n",
    "\n",
    "class C(A):\n",
    "    def display(self):\n",
    "        print(\"Class C\")\n",
    "\n",
    "class D(B, C):\n",
    "    pass\n",
    "\n",
    "a = A()\n",
    "b = B()\n",
    "d = D()\n",
    "c = C()\n",
    "a.display()\n",
    "b.display()\n",
    "c.display()\n",
    "d.display()  \n"
   ]
  },
  {
   "cell_type": "code",
   "execution_count": 42,
   "metadata": {},
   "outputs": [
    {
     "name": "stdout",
     "output_type": "stream",
     "text": [
      "Number of instances created: 3\n"
     ]
    }
   ],
   "source": [
    "#14. class mehtods to track the number of instances.\n",
    "class MyClass:\n",
    "    instance_count = 0 \n",
    "\n",
    "    def __init__(self):\n",
    "        MyClass.instance_count += 1  \n",
    "\n",
    "    @classmethod\n",
    "    def get_instance_count(cls):\n",
    "        return f\"Number of instances created: {cls.instance_count}\" \n",
    "\n",
    "obj1 = MyClass()\n",
    "obj2 = MyClass()\n",
    "obj3 = MyClass()\n",
    "\n",
    "print(MyClass.get_instance_count())  \n"
   ]
  },
  {
   "cell_type": "code",
   "execution_count": 43,
   "metadata": {},
   "outputs": [
    {
     "name": "stdout",
     "output_type": "stream",
     "text": [
      "True\n",
      "False\n"
     ]
    }
   ],
   "source": [
    "#15. Static Method.\n",
    "class Year:\n",
    "    \n",
    "    @staticmethod\n",
    "    def is_leap_year(year):\n",
    "        if (year % 4 == 0 and year % 100 != 0) or (year % 400 == 0):\n",
    "            return True\n",
    "        else:\n",
    "            return False\n",
    "\n",
    "print(Year.is_leap_year(2020))  \n",
    "print(Year.is_leap_year(2021))  \n"
   ]
  },
  {
   "cell_type": "code",
   "execution_count": null,
   "metadata": {},
   "outputs": [],
   "source": []
  }
 ],
 "metadata": {
  "kernelspec": {
   "display_name": "Python 3",
   "language": "python",
   "name": "python3"
  },
  "language_info": {
   "codemirror_mode": {
    "name": "ipython",
    "version": 3
   },
   "file_extension": ".py",
   "mimetype": "text/x-python",
   "name": "python",
   "nbconvert_exporter": "python",
   "pygments_lexer": "ipython3",
   "version": "3.11.3"
  }
 },
 "nbformat": 4,
 "nbformat_minor": 2
}
