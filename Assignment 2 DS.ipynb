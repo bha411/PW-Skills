{
 "cells": [
  {
   "cell_type": "code",
   "execution_count": 5,
   "metadata": {},
   "outputs": [
    {
     "name": "stdout",
     "output_type": "stream",
     "text": [
      "Hi i am Bhavya!\n",
      "am Bhavya!\n",
      "Hi i am B\n",
      "iia hva\n",
      "!ayvahB ma i iH\n"
     ]
    }
   ],
   "source": [
    "#string slicing\n",
    "string1 = \"Hi i am Bhavya!\"\n",
    "print(string1[:])\n",
    "print(string1[5:])\n",
    "print(string1[:9])\n",
    "print(string1[1::2])\n",
    "print(string1[::-1])\n"
   ]
  },
  {
   "cell_type": "code",
   "execution_count": 14,
   "metadata": {},
   "outputs": [
    {
     "name": "stdout",
     "output_type": "stream",
     "text": [
      "Bhavya\n",
      "Gupta\n",
      "PWSkills\n"
     ]
    },
    {
     "data": {
      "text/plain": [
       "['Bhavya', 'Gupta', 'PWSkills']"
      ]
     },
     "execution_count": 14,
     "metadata": {},
     "output_type": "execute_result"
    }
   ],
   "source": [
    "List1 = [\"Bhavya\",\"Gupta\",\"PWSkills\"]\n",
    "print(List1[0])\n",
    "print(List1[1])\n",
    "print(List1[-1])\n",
    "List1"
   ]
  },
  {
   "cell_type": "code",
   "execution_count": 15,
   "metadata": {},
   "outputs": [
    {
     "data": {
      "text/plain": [
       "['Bhavya', 'Data Science Course', 'Alakh Pandey Sir']"
      ]
     },
     "execution_count": 15,
     "metadata": {},
     "output_type": "execute_result"
    }
   ],
   "source": [
    "List1[2] = \"Alakh Pandey Sir\"\n",
    "List1[1] = \"Data Science Course\"\n",
    "List1"
   ]
  },
  {
   "cell_type": "code",
   "execution_count": 16,
   "metadata": {},
   "outputs": [
    {
     "name": "stdout",
     "output_type": "stream",
     "text": [
      "['Bhavya', 'Data Science Course', 'Alakh Pandey Sir']\n",
      "['Bhavya', 'Gupta', 'Data Science Course', 'Alakh Pandey Sir', 'Physics Wallah', 'Machine Learning', 'Artificial Intelligence']\n"
     ]
    }
   ],
   "source": [
    "List2 = [\"Machine Learning\",\"Artificial Intelligence\"]\n",
    "print(List1)\n",
    "List1.append(\"Physics Wallah\")\n",
    "List1.insert(1,\"Gupta\")\n",
    "List1.extend(List2)\n",
    "print(List1)"
   ]
  },
  {
   "cell_type": "code",
   "execution_count": 17,
   "metadata": {},
   "outputs": [
    {
     "name": "stdout",
     "output_type": "stream",
     "text": [
      "['Bhavya', 'Alakh Pandey Sir', 'Physics Wallah']\n",
      "[]\n"
     ]
    }
   ],
   "source": [
    "del List1[-1]\n",
    "List1.pop()\n",
    "List1.pop(1)\n",
    "List1.remove(\"Data Science Course\")\n",
    "List2.clear()\n",
    "print(List1)\n",
    "print(List2)"
   ]
  },
  {
   "cell_type": "code",
   "execution_count": 18,
   "metadata": {},
   "outputs": [
    {
     "data": {
      "text/plain": [
       "{1, 2, 3, 4, 'Bhavya', 'PWSkills'}"
      ]
     },
     "execution_count": 18,
     "metadata": {},
     "output_type": "execute_result"
    }
   ],
   "source": [
    "Set1 = {1,2,3,4,\"Bhavya\",\"PWSkills\"}\n",
    "Set1"
   ]
  },
  {
   "cell_type": "code",
   "execution_count": 19,
   "metadata": {},
   "outputs": [
    {
     "data": {
      "text/plain": [
       "{1, 2, 3, 4, 5, 'Bhavya', 'PWSkills'}"
      ]
     },
     "execution_count": 19,
     "metadata": {},
     "output_type": "execute_result"
    }
   ],
   "source": [
    "Set1.add(\"Bhavya\")\n",
    "Set1.add(5)\n",
    "Set1.add(1)\n",
    "Set1"
   ]
  },
  {
   "cell_type": "code",
   "execution_count": 24,
   "metadata": {},
   "outputs": [
    {
     "name": "stdout",
     "output_type": "stream",
     "text": [
      "True\n",
      "True\n",
      "False\n"
     ]
    }
   ],
   "source": [
    "print(1 in Set1)\n",
    "print(2 in Set1)\n",
    "print(10 in Set1)"
   ]
  },
  {
   "cell_type": "code",
   "execution_count": 25,
   "metadata": {},
   "outputs": [
    {
     "data": {
      "text/plain": [
       "'Hi i am Bhavya!'"
      ]
     },
     "execution_count": 25,
     "metadata": {},
     "output_type": "execute_result"
    }
   ],
   "source": [
    "string1"
   ]
  },
  {
   "cell_type": "code",
   "execution_count": 26,
   "metadata": {},
   "outputs": [
    {
     "data": {
      "text/plain": [
       "((12, 1.3, 0), (3, 3, 3))"
      ]
     },
     "execution_count": 26,
     "metadata": {},
     "output_type": "execute_result"
    }
   ],
   "source": [
    "PointA = (12,1.3,0)\n",
    "PointB = (3,3,3)\n",
    "PointA,PointB"
   ]
  },
  {
   "cell_type": "code",
   "execution_count": 27,
   "metadata": {},
   "outputs": [
    {
     "data": {
      "text/plain": [
       "('Bhavya Gupta', 100, 22, 170.5, [1, 2, 3, 4])"
      ]
     },
     "execution_count": 27,
     "metadata": {},
     "output_type": "execute_result"
    }
   ],
   "source": [
    "Details_X = (\"Bhavya Gupta\",100,22,170.5,[1,2,3,4])\n",
    "Details_X"
   ]
  },
  {
   "cell_type": "code",
   "execution_count": 40,
   "metadata": {},
   "outputs": [
    {
     "name": "stdout",
     "output_type": "stream",
     "text": [
      "Pass\n"
     ]
    }
   ],
   "source": [
    "Student_Details = {(\"Bhavya\",\"x\",\"y\"):\"Pass\",(\"a\",\"b\",\"c\"): \"Fail\"}\n",
    "print(Student_Details[(\"Bhavya\",\"x\",\"y\")])"
   ]
  },
  {
   "cell_type": "code",
   "execution_count": 41,
   "metadata": {},
   "outputs": [
    {
     "data": {
      "text/plain": [
       "{'AI', 'Deep learning', 'Machine learning', 'Python'}"
      ]
     },
     "execution_count": 41,
     "metadata": {},
     "output_type": "execute_result"
    }
   ],
   "source": [
    "Bhavya_tech_stack = {\"Python\",\"Machine learning\",\"Deep learning\",\"Python\",\"AI\"}\n",
    "Bhavya_tech_stack"
   ]
  },
  {
   "cell_type": "code",
   "execution_count": 42,
   "metadata": {},
   "outputs": [
    {
     "name": "stdout",
     "output_type": "stream",
     "text": [
      "Eligible to apply\n",
      "Sorry, you are ineligible\n"
     ]
    }
   ],
   "source": [
    "if \"Python\" in Bhavya_tech_stack:\n",
    "    print(\"Eligible to apply\")\n",
    "    \n",
    "if \"C\" not in Bhavya_tech_stack:\n",
    "    print(\"Sorry, you are ineligible\")"
   ]
  },
  {
   "cell_type": "code",
   "execution_count": 45,
   "metadata": {},
   "outputs": [
    {
     "name": "stdout",
     "output_type": "stream",
     "text": [
      "{'AI', 'Python'}\n",
      "{'Machine learning', 'Deep learning'}\n"
     ]
    }
   ],
   "source": [
    "Student_tech_stack = {\"C\",\"Python\", \"AI\"}\n",
    "print(Bhavya_tech_stack & Student_tech_stack)\n",
    "print(Bhavya_tech_stack - Student_tech_stack)"
   ]
  },
  {
   "cell_type": "code",
   "execution_count": 46,
   "metadata": {},
   "outputs": [
    {
     "name": "stdout",
     "output_type": "stream",
     "text": [
      "No duplicates added\n"
     ]
    }
   ],
   "source": [
    "if len(Bhavya_tech_stack) == len(set(Bhavya_tech_stack)):\n",
    "    print(\"No duplicates added\")\n",
    "else:\n",
    "    print(\"Duplicate items found\")"
   ]
  },
  {
   "cell_type": "code",
   "execution_count": 48,
   "metadata": {},
   "outputs": [
    {
     "name": "stdout",
     "output_type": "stream",
     "text": [
      "4\n"
     ]
    },
    {
     "data": {
      "text/plain": [
       "4"
      ]
     },
     "execution_count": 48,
     "metadata": {},
     "output_type": "execute_result"
    }
   ],
   "source": [
    "print(len(Bhavya_tech_stack))\n",
    "len(set(Bhavya_tech_stack))"
   ]
  },
  {
   "cell_type": "code",
   "execution_count": 52,
   "metadata": {},
   "outputs": [
    {
     "name": "stdout",
     "output_type": "stream",
     "text": [
      "Duplicates found\n"
     ]
    }
   ],
   "source": [
    "data = [1, 2, 3, 4, 4, 5]\n",
    "if len(data) != len(set(data)):\n",
    "    print(\"Duplicates found\")\n",
    "else:\n",
    "    print(\"NO duplicates found\")"
   ]
  },
  {
   "cell_type": "code",
   "execution_count": 53,
   "metadata": {},
   "outputs": [
    {
     "data": {
      "text/plain": [
       "{'Name': 'Bhavya', 'Age': 22, 'Language': 'Python'}"
      ]
     },
     "execution_count": 53,
     "metadata": {},
     "output_type": "execute_result"
    }
   ],
   "source": [
    "My_Dict = {\"Name\":\"Bhavya\",\"Age\":22,\"Language\":\"Python\"}\n",
    "My_Dict\n"
   ]
  },
  {
   "cell_type": "code",
   "execution_count": 54,
   "metadata": {},
   "outputs": [
    {
     "data": {
      "text/plain": [
       "{'Name': 'Bhavya',\n",
       " 'Age': 22,\n",
       " 'Language': 'Python',\n",
       " 'College': 'Manipal University Jaipur',\n",
       " 'CGPA': 8.5}"
      ]
     },
     "execution_count": 54,
     "metadata": {},
     "output_type": "execute_result"
    }
   ],
   "source": [
    "My_Dict[\"College\"]=\"Manipal University Jaipur\"\n",
    "My_Dict[\"CGPA\"] = 8.5\n",
    "My_Dict"
   ]
  },
  {
   "cell_type": "code",
   "execution_count": 55,
   "metadata": {},
   "outputs": [
    {
     "data": {
      "text/plain": [
       "{'Name': 'Bhavya Gupta',\n",
       " 'Age': 22,\n",
       " 'Language': 'Python',\n",
       " 'College': 'Manipal University Jaipur',\n",
       " 'CGPA': 8.5}"
      ]
     },
     "execution_count": 55,
     "metadata": {},
     "output_type": "execute_result"
    }
   ],
   "source": [
    "My_Dict[\"Name\"] = \"Bhavya Gupta\"\n",
    "My_Dict"
   ]
  },
  {
   "cell_type": "code",
   "execution_count": 56,
   "metadata": {},
   "outputs": [
    {
     "name": "stdout",
     "output_type": "stream",
     "text": [
      "8.5\n"
     ]
    },
    {
     "data": {
      "text/plain": [
       "{'Name': 'Bhavya Gupta', 'Age': 22, 'Language': 'Python'}"
      ]
     },
     "execution_count": 56,
     "metadata": {},
     "output_type": "execute_result"
    }
   ],
   "source": [
    "del My_Dict[\"College\"]\n",
    "print(My_Dict.pop(\"CGPA\"))\n",
    "My_Dict"
   ]
  },
  {
   "cell_type": "code",
   "execution_count": 57,
   "metadata": {},
   "outputs": [
    {
     "ename": "TypeError",
     "evalue": "unhashable type: 'list'",
     "output_type": "error",
     "traceback": [
      "\u001b[1;31m---------------------------------------------------------------------------\u001b[0m",
      "\u001b[1;31mTypeError\u001b[0m                                 Traceback (most recent call last)",
      "Cell \u001b[1;32mIn[57], line 1\u001b[0m\n\u001b[1;32m----> 1\u001b[0m invalid_dict \u001b[38;5;241m=\u001b[39m {[\u001b[38;5;241m1\u001b[39m, \u001b[38;5;241m2\u001b[39m, \u001b[38;5;241m3\u001b[39m]: \u001b[38;5;124m\"\u001b[39m\u001b[38;5;124mThis is a list\u001b[39m\u001b[38;5;124m\"\u001b[39m}\n",
      "\u001b[1;31mTypeError\u001b[0m: unhashable type: 'list'"
     ]
    }
   ],
   "source": [
    "invalid_dict = {[1, 2, 3]: \"This is a list\"}\n"
   ]
  },
  {
   "cell_type": "code",
   "execution_count": 58,
   "metadata": {},
   "outputs": [
    {
     "ename": "TypeError",
     "evalue": "unhashable type: 'dict'",
     "output_type": "error",
     "traceback": [
      "\u001b[1;31m---------------------------------------------------------------------------\u001b[0m",
      "\u001b[1;31mTypeError\u001b[0m                                 Traceback (most recent call last)",
      "Cell \u001b[1;32mIn[58], line 1\u001b[0m\n\u001b[1;32m----> 1\u001b[0m invalid_dict \u001b[38;5;241m=\u001b[39m {{\u001b[38;5;124m\"\u001b[39m\u001b[38;5;124ma\u001b[39m\u001b[38;5;124m\"\u001b[39m:\u001b[38;5;124m\"\u001b[39m\u001b[38;5;124mstring\u001b[39m\u001b[38;5;124m\"\u001b[39m}:\u001b[38;5;124m\"\u001b[39m\u001b[38;5;124mstring\u001b[39m\u001b[38;5;124m\"\u001b[39m}\n",
      "\u001b[1;31mTypeError\u001b[0m: unhashable type: 'dict'"
     ]
    }
   ],
   "source": [
    "invalid_dict = {{\"a\":\"string\"}:\"string\"}"
   ]
  },
  {
   "cell_type": "code",
   "execution_count": null,
   "metadata": {},
   "outputs": [],
   "source": []
  }
 ],
 "metadata": {
  "kernelspec": {
   "display_name": "Python 3",
   "language": "python",
   "name": "python3"
  },
  "language_info": {
   "codemirror_mode": {
    "name": "ipython",
    "version": 3
   },
   "file_extension": ".py",
   "mimetype": "text/x-python",
   "name": "python",
   "nbconvert_exporter": "python",
   "pygments_lexer": "ipython3",
   "version": "3.11.3"
  }
 },
 "nbformat": 4,
 "nbformat_minor": 2
}
