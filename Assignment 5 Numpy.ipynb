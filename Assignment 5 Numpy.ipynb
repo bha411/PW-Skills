{
 "cells": [
  {
   "cell_type": "code",
   "execution_count": 79,
   "metadata": {},
   "outputs": [],
   "source": [
    "# BHAVYA GUPTA\n",
    "# 2021-07-25\n",
    "#ASSIGNMENT 5 NUMPY\n",
    "\n",
    "import numpy as np"
   ]
  },
  {
   "cell_type": "code",
   "execution_count": 80,
   "metadata": {},
   "outputs": [
    {
     "name": "stdout",
     "output_type": "stream",
     "text": [
      "[5 4 3 2 1]\n",
      "[[5 6]\n",
      " [3 4]\n",
      " [1 2]]\n"
     ]
    }
   ],
   "source": [
    "#3.Reversing an array\n",
    "\n",
    "arr1 = np.array([1, 2, 3, 4, 5])\n",
    "reversed_arr = arr1[::-1]\n",
    "print(reversed_arr)  \n",
    "\n",
    "arr2 = np.array([[1, 2], [3, 4], [5, 6]])\n",
    "reversed_rows = arr2[::-1, :]\n",
    "print(reversed_rows)  \n"
   ]
  },
  {
   "cell_type": "code",
   "execution_count": 81,
   "metadata": {},
   "outputs": [
    {
     "name": "stdout",
     "output_type": "stream",
     "text": [
      "[[5 6]\n",
      " [3 4]\n",
      " [1 2]]\n",
      "\n",
      "[[2 1]\n",
      " [4 3]\n",
      " [6 5]]\n"
     ]
    }
   ],
   "source": [
    "flipped_rows = np.flip(arr2, axis=0)\n",
    "print(flipped_rows)  \n",
    "print()\n",
    "flipped_columns = np.flip(arr2, axis=1)\n",
    "print(flipped_columns)  "
   ]
  },
  {
   "cell_type": "code",
   "execution_count": 82,
   "metadata": {},
   "outputs": [
    {
     "name": "stdout",
     "output_type": "stream",
     "text": [
      "int32\n",
      "float64\n"
     ]
    }
   ],
   "source": [
    "#4. Checkinf the datatypes\n",
    "\n",
    "arr = np.array([1, 2, 3])\n",
    "print(arr.dtype) \n",
    "\n",
    "arr = np.empty((10,10,10)) \n",
    "print(arr.dtype)"
   ]
  },
  {
   "cell_type": "code",
   "execution_count": 83,
   "metadata": {},
   "outputs": [
    {
     "name": "stdout",
     "output_type": "stream",
     "text": [
      "[[1 2]\n",
      " [3 4]] \n",
      "\n",
      "[1 2 3 4]\n"
     ]
    }
   ],
   "source": [
    "#7. comparing vstack and hstack\n",
    "a = np.array([1, 2])\n",
    "b = np.array([3, 4])\n",
    "print(np.vstack((a, b)),\"\\n\")\n",
    "\n",
    "print(np.hstack((a, b)))\n"
   ]
  },
  {
   "cell_type": "code",
   "execution_count": 84,
   "metadata": {},
   "outputs": [
    {
     "data": {
      "text/plain": [
       "(array([[2, 1],\n",
       "        [4, 3]]),\n",
       " (),\n",
       " array([[3, 4],\n",
       "        [1, 2]]))"
      ]
     },
     "execution_count": 84,
     "metadata": {},
     "output_type": "execute_result"
    }
   ],
   "source": [
    "#8. Differences between fliplr() and flipud()\n",
    "arr = np.array([[1, 2], \n",
    "                [3, 4]])\n",
    "np.fliplr(arr)  ,(), np.flipud(arr)  \n",
    "\n"
   ]
  },
  {
   "cell_type": "code",
   "execution_count": 85,
   "metadata": {},
   "outputs": [
    {
     "data": {
      "text/plain": [
       "[array([1, 2]), array([3, 4]), array([5])]"
      ]
     },
     "execution_count": 85,
     "metadata": {},
     "output_type": "execute_result"
    }
   ],
   "source": [
    "#9. Array_split method\n",
    "\n",
    "arr = np.array([1, 2, 3, 4, 5])\n",
    "np.array_split(arr, 3)  "
   ]
  },
  {
   "cell_type": "code",
   "execution_count": 86,
   "metadata": {},
   "outputs": [
    {
     "data": {
      "text/plain": [
       "array([2, 3, 4])"
      ]
     },
     "execution_count": 86,
     "metadata": {},
     "output_type": "execute_result"
    }
   ],
   "source": [
    "#10. Vectorization\n",
    "arr = np.array([1, 2, 3])\n",
    "arr = arr + 1  \n",
    "arr"
   ]
  },
  {
   "cell_type": "code",
   "execution_count": 87,
   "metadata": {},
   "outputs": [
    {
     "data": {
      "text/plain": [
       "array([[3, 4, 5],\n",
       "       [6, 7, 8]])"
      ]
     },
     "execution_count": 87,
     "metadata": {},
     "output_type": "execute_result"
    }
   ],
   "source": [
    "#10. Broadcasting\n",
    "arr = np.array([[1, 2, 3], [4, 5, 6]])\n",
    "scalar = 2\n",
    "arr + scalar "
   ]
  },
  {
   "cell_type": "code",
   "execution_count": null,
   "metadata": {},
   "outputs": [],
   "source": []
  },
  {
   "cell_type": "markdown",
   "metadata": {},
   "source": [
    "PRACTICAL QUESTIONS "
   ]
  },
  {
   "cell_type": "code",
   "execution_count": 88,
   "metadata": {},
   "outputs": [],
   "source": [
    "import numpy as np\n"
   ]
  },
  {
   "cell_type": "code",
   "execution_count": 89,
   "metadata": {},
   "outputs": [
    {
     "name": "stdout",
     "output_type": "stream",
     "text": [
      "[[99 93 86]\n",
      " [64 36 85]\n",
      " [62  6 61]] \n",
      "\n",
      "[[99 64 62]\n",
      " [93 36  6]\n",
      " [86 85 61]]\n"
     ]
    }
   ],
   "source": [
    "#1. Create a 3x3 array with random integers between 1 and 100\n",
    "arr = np.random.randint(1, 101, size=(3, 3))\n",
    "print(arr,\"\\n\")\n",
    "\n",
    "transposed_arr = arr.T\n",
    "print(transposed_arr)\n"
   ]
  },
  {
   "cell_type": "code",
   "execution_count": 90,
   "metadata": {},
   "outputs": [
    {
     "name": "stdout",
     "output_type": "stream",
     "text": [
      "[[0 1 2 3 4]\n",
      " [5 6 7 8 9]]\n",
      "\n",
      "[[0 1]\n",
      " [2 3]\n",
      " [4 5]\n",
      " [6 7]\n",
      " [8 9]]\n",
      "[[0]\n",
      " [1]\n",
      " [2]\n",
      " [3]\n",
      " [4]\n",
      " [5]\n",
      " [6]\n",
      " [7]\n",
      " [8]\n",
      " [9]]\n"
     ]
    }
   ],
   "source": [
    "#2. Generate a 1D array with 10 elements\n",
    "arr = np.arange(10)\n",
    "\n",
    "reshaped_2x5 = arr.reshape(2, 5)\n",
    "print(reshaped_2x5)\n",
    "print()\n",
    "\n",
    "reshaped_5x2 = arr.reshape(5, 2)\n",
    "print(reshaped_5x2)\n",
    "\n",
    "reshaped_7x = arr.reshape(10,-1)\n",
    "print(reshaped_7x)\n"
   ]
  },
  {
   "cell_type": "code",
   "execution_count": 91,
   "metadata": {},
   "outputs": [
    {
     "name": "stdout",
     "output_type": "stream",
     "text": [
      "[[0.         0.         0.         0.         0.         0.        ]\n",
      " [0.         0.74894955 0.03210986 0.77315852 0.67220188 0.        ]\n",
      " [0.         0.92748349 0.37086618 0.28828447 0.76693038 0.        ]\n",
      " [0.         0.30695306 0.53628249 0.69329662 0.32268613 0.        ]\n",
      " [0.         0.88958973 0.81652017 0.42821598 0.00577011 0.        ]\n",
      " [0.         0.         0.         0.         0.         0.        ]]\n"
     ]
    }
   ],
   "source": [
    "#3. Create a 4x4 array with random float values\n",
    "arr = np.random.rand(4, 4)\n",
    "\n",
    "padded_arr = np.pad(arr, pad_width=1, mode='constant', constant_values=0)\n",
    "print(padded_arr)\n"
   ]
  },
  {
   "cell_type": "code",
   "execution_count": 92,
   "metadata": {},
   "outputs": [
    {
     "name": "stdout",
     "output_type": "stream",
     "text": [
      "[10 15 20 25 30 35 40 45 50 55 60]\n"
     ]
    }
   ],
   "source": [
    "#4. Using NumPy, create an array of integers from 10 to 60 with a step of 5.\n",
    "arr = np.arange(10, 61, 5)\n",
    "print(arr)\n"
   ]
  },
  {
   "cell_type": "code",
   "execution_count": 93,
   "metadata": {},
   "outputs": [
    {
     "name": "stdout",
     "output_type": "stream",
     "text": [
      "Uppercase: ['PYTHON' 'NUMPY' 'PANDAS']\n",
      "Lowercase: ['python' 'numpy' 'pandas']\n",
      "Title Case: ['Python' 'Numpy' 'Pandas']\n"
     ]
    }
   ],
   "source": [
    "#5. Creating arraay of strings and applying different case transformers to them.\n",
    "arr = np.array(['python', 'numpy', 'pandas'])\n",
    "\n",
    "uppercase = np.char.upper(arr)\n",
    "lowercase = np.char.lower(arr)\n",
    "titlecase = np.char.title(arr)\n",
    "\n",
    "print(\"Uppercase:\", uppercase)\n",
    "print(\"Lowercase:\", lowercase)\n",
    "print(\"Title Case:\", titlecase)\n"
   ]
  },
  {
   "cell_type": "code",
   "execution_count": 94,
   "metadata": {},
   "outputs": [
    {
     "name": "stdout",
     "output_type": "stream",
     "text": [
      "['t h i s' 'i s' 'a' 'n u m p y' 'a r r a y']\n"
     ]
    }
   ],
   "source": [
    "#6. Generating np array of words\n",
    "arr = np.array(['this', 'is','a', 'numpy','array'])\n",
    "\n",
    "spaced_arr = np.char.join(' ', arr)\n",
    "print(spaced_arr)\n"
   ]
  },
  {
   "cell_type": "code",
   "execution_count": 95,
   "metadata": {},
   "outputs": [
    {
     "name": "stdout",
     "output_type": "stream",
     "text": [
      "Addition:\n",
      " [[ 6  8]\n",
      " [10 12]]\n",
      "Subtraction:\n",
      " [[-4 -4]\n",
      " [-4 -4]]\n",
      "Multiplication:\n",
      " [[ 5 12]\n",
      " [21 32]]\n",
      "Division:\n",
      " [[0.2        0.33333333]\n",
      " [0.42857143 0.5       ]]\n"
     ]
    }
   ],
   "source": [
    "#7. Applying element-wise addition ,sub,mul,div\n",
    "arr1 = np.array([[1, 2], [3, 4]])\n",
    "arr2 = np.array([[5, 6], [7, 8]])\n",
    "\n",
    "addition = arr1 + arr2\n",
    "subtraction = arr1 - arr2\n",
    "multiplication = arr1 * arr2\n",
    "division = arr1 / arr2\n",
    "\n",
    "print(\"Addition:\\n\", addition)\n",
    "print(\"Subtraction:\\n\", subtraction)\n",
    "print(\"Multiplication:\\n\", multiplication)\n",
    "print(\"Division:\\n\", division)\n"
   ]
  },
  {
   "cell_type": "code",
   "execution_count": 96,
   "metadata": {},
   "outputs": [
    {
     "name": "stdout",
     "output_type": "stream",
     "text": [
      "[[1. 0. 0. 0. 0.]\n",
      " [0. 1. 0. 0. 0.]\n",
      " [0. 0. 1. 0. 0.]\n",
      " [0. 0. 0. 1. 0.]\n",
      " [0. 0. 0. 0. 1.]]\n",
      "Diagonal Elements of Identity Matrix:\n",
      "[1. 1. 1. 1. 1.]\n"
     ]
    }
   ],
   "source": [
    "#8. Creating a 5x5 identity mat\n",
    "\n",
    "arr = np.eye(5,5)\n",
    "print(arr)\n",
    "\n",
    "diagonal = np.diag(arr)\n",
    "print(\"Diagonal Elements of Identity Matrix:\")\n",
    "print(diagonal)"
   ]
  },
  {
   "cell_type": "code",
   "execution_count": null,
   "metadata": {},
   "outputs": [],
   "source": [
    "\n",
    "            "
   ]
  },
  {
   "cell_type": "code",
   "execution_count": 150,
   "metadata": {},
   "outputs": [
    {
     "name": "stdout",
     "output_type": "stream",
     "text": [
      "Random array: [207 708 754  60 737  70 198 377 396 805 155 702 756 951 480 240 123 537\n",
      " 532 583  65 989 582 418 496 827  71  84 760 163 821 212  59 384 371 771\n",
      " 604 918 685 306 934 241 708  87 306 289 388 647 159 664 270  39 790 186\n",
      " 411 663 471 755 388 660 867 555 682  78 607 220 872 131 107 617 407 627\n",
      " 577 206 708 617 296 214 168 118 436  53 698 334 639 467 312 543 643 627\n",
      " 698 270 424 777 600 541 987 400 277 564]\n",
      "Prime numbers in the array: {827, 577, 163, 131, 643, 71, 647, 617, 107, 241, 467, 821, 53, 277, 59, 541, 607}\n"
     ]
    }
   ],
   "source": [
    "#9. Finding all prime no in 100 random ints arr \n",
    "arr = np.random.randint(0, 1000, 100)\n",
    "\n",
    "def is_prime(n):\n",
    "    if n < 2:\n",
    "        return False\n",
    "    for j in range(2, n):\n",
    "        if n % j == 0:\n",
    "            return False\n",
    "    return True\n",
    "\n",
    "\n",
    "prime_numbers = [num for num in arr if is_prime(num)]\n",
    "\n",
    "print(\"Random array:\", arr)\n",
    "print(\"Prime numbers in the array:\", set(prime_numbers))\n",
    "\n"
   ]
  },
  {
   "cell_type": "code",
   "execution_count": 158,
   "metadata": {},
   "outputs": [
    {
     "name": "stdout",
     "output_type": "stream",
     "text": [
      "Weekly Averages:\n",
      "[25.71428571 30.         30.28571429 32.28571429]\n",
      "temps =  [22 28 29 31 27 21 22 24 25 33 33 31 33 31 28 38 24 22 30 38 32 22 23 36\n",
      " 39 39 30 37 35 21]\n",
      "temps per week =  [[22 28 29 31 27 21 22]\n",
      " [24 25 33 33 31 33 31]\n",
      " [28 38 24 22 30 38 32]\n",
      " [22 23 36 39 39 30 37]]\n"
     ]
    }
   ],
   "source": [
    "#10. display monthly and weekly avg of temps\n",
    "temperatures = np.random.randint(20, 40, size=30)\n",
    "\n",
    "temperatures_per_week = temperatures[:28].reshape(4, 7)\n",
    "\n",
    "weekly_averages = np.mean(temperatures_per_week, axis=1)\n",
    "\n",
    "print(\"Weekly Averages:\")\n",
    "print(weekly_averages)\n",
    "print(\"temps = \",temperatures)\n",
    "print(\"temps per week = \",temperatures_per_week)\n"
   ]
  },
  {
   "cell_type": "code",
   "execution_count": null,
   "metadata": {},
   "outputs": [],
   "source": []
  },
  {
   "cell_type": "code",
   "execution_count": null,
   "metadata": {},
   "outputs": [],
   "source": []
  },
  {
   "cell_type": "code",
   "execution_count": null,
   "metadata": {},
   "outputs": [],
   "source": []
  },
  {
   "cell_type": "code",
   "execution_count": null,
   "metadata": {},
   "outputs": [],
   "source": []
  }
 ],
 "metadata": {
  "kernelspec": {
   "display_name": "Python 3",
   "language": "python",
   "name": "python3"
  },
  "language_info": {
   "codemirror_mode": {
    "name": "ipython",
    "version": 3
   },
   "file_extension": ".py",
   "mimetype": "text/x-python",
   "name": "python",
   "nbconvert_exporter": "python",
   "pygments_lexer": "ipython3",
   "version": "3.11.3"
  }
 },
 "nbformat": 4,
 "nbformat_minor": 2
}
