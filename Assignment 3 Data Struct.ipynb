{
 "cells": [
  {
   "cell_type": "code",
   "execution_count": 8,
   "metadata": {},
   "outputs": [
    {
     "name": "stdout",
     "output_type": "stream",
     "text": [
      "AYVAHB"
     ]
    }
   ],
   "source": [
    "#1.REVERSE STRING\n",
    "String1 = \"BHAVYA\"\n",
    "for i in range(-1,-(len(String1))-1,-1):\n",
    "    print(String1[i],end=\"\")\n",
    "    "
   ]
  },
  {
   "cell_type": "code",
   "execution_count": 13,
   "metadata": {},
   "outputs": [
    {
     "name": "stdout",
     "output_type": "stream",
     "text": [
      "total vowels=2\n"
     ]
    }
   ],
   "source": [
    "#2.\tNumber of Vowels in string:\n",
    "\n",
    "String1=\"bhavya\"\n",
    "count=0\n",
    "vowels = [\"a\",\"e\",\"i\",\"o\",\"u\"]\n",
    "for i in String1:\n",
    "    if i in vowels:\n",
    "        count+=1\n",
    "    else:\n",
    "        pass\n",
    "print(f\"total vowels={count}\")"
   ]
  },
  {
   "cell_type": "code",
   "execution_count": 7,
   "metadata": {},
   "outputs": [
    {
     "name": "stdout",
     "output_type": "stream",
     "text": [
      "The word racecar is a palindrome\n"
     ]
    }
   ],
   "source": [
    "#3. String Palindrome\n",
    "String2 = \"racecar\"\n",
    "if String2== String2[::-1]:\n",
    "    print(f\"The word {String2} is a palindrome\")\n",
    "else :\n",
    "    print(\"Not a palindrome\")"
   ]
  },
  {
   "cell_type": "code",
   "execution_count": 14,
   "metadata": {},
   "outputs": [
    {
     "name": "stdout",
     "output_type": "stream",
     "text": [
      "Listen and Silent are anagrams\n"
     ]
    }
   ],
   "source": [
    "#4. String anagram\n",
    "String3 = \"Listen\"\n",
    "String4 = \"Silent\"\n",
    "\n",
    "if sorted(String3.lower()) ==  sorted(String4.lower()):\n",
    "    print(f\"{String3} and {String4} are anagrams\")\n",
    "    \n",
    "else:\n",
    "    print(\"not anagrams\")"
   ]
  },
  {
   "cell_type": "code",
   "execution_count": 12,
   "metadata": {},
   "outputs": [
    {
     "name": "stdout",
     "output_type": "stream",
     "text": [
      "<built-in method lower of str object at 0x000001F953E03EF0>\n"
     ]
    }
   ],
   "source": []
  },
  {
   "cell_type": "code",
   "execution_count": 22,
   "metadata": {},
   "outputs": [
    {
     "name": "stdout",
     "output_type": "stream",
     "text": [
      "substr is is found at [12, 31, 34] position\n"
     ]
    }
   ],
   "source": [
    "#5. Occurance of a substring\n",
    "String5 = \" hi my name is bhavya gupta. this is an assignment\"\n",
    "substr5 = \"is\"\n",
    "count = 0\n",
    "pos = []\n",
    "while True:\n",
    "    count = String5.find(substr5,count) \n",
    "    \n",
    "    if count == -1:\n",
    "        break\n",
    "    pos.append(count)\n",
    "    count+=1\n",
    "    \n",
    "print(f\"substr {substr5} is found at {pos} position\")\n",
    "    "
   ]
  },
  {
   "cell_type": "code",
   "execution_count": 25,
   "metadata": {},
   "outputs": [
    {
     "name": "stdout",
     "output_type": "stream",
     "text": [
      "Compressed string: a3b1c2d4\n"
     ]
    }
   ],
   "source": [
    "#6. string compression\n",
    "String6= \"aaabccdddd\"\n",
    "compressed_string = \"\"\n",
    "count = 1\n",
    "for i in range(len(String6) - 1):\n",
    "    if String6[i] == String6[i + 1]:\n",
    "        count += 1  \n",
    "    else:\n",
    "       \n",
    "        compressed_string += String6[i] + str(count)\n",
    "        count = 1  \n",
    "\n",
    "\n",
    "compressed_string += String6[-1] + str(count)\n",
    "\n",
    "print(f\"Compressed string: {compressed_string}\")\n"
   ]
  },
  {
   "cell_type": "code",
   "execution_count": 29,
   "metadata": {},
   "outputs": [
    {
     "name": "stdout",
     "output_type": "stream",
     "text": [
      "Duplicates found\n"
     ]
    }
   ],
   "source": [
    "#7. string has unique chars\n",
    "String7 = \"Bhavya Gupta\"\n",
    "chars = []\n",
    "\n",
    "for i in String7:\n",
    "    chars.append(i)\n",
    "    \n",
    "if len(chars)==len(set(chars)):\n",
    "    print(\"All chars are unique\")\n",
    "    \n",
    "else:\n",
    "    print(\"Duplicates found\")\n",
    "    \n",
    "    "
   ]
  },
  {
   "cell_type": "code",
   "execution_count": 30,
   "metadata": {},
   "outputs": [
    {
     "name": "stdout",
     "output_type": "stream",
     "text": [
      "the lower case will be   this is a mixed case string\n",
      "the upper case will be   THIS IS A MIXED CASE STRING\n"
     ]
    }
   ],
   "source": [
    "#8. String Upper or Lower\n",
    "String8 = \" This is a MIXED case StrINg\"\n",
    "\n",
    "print(\"the lower case will be \",String8.lower())\n",
    "print(\"the upper case will be \",String8.upper())\n",
    "\n",
    "\n"
   ]
  },
  {
   "cell_type": "code",
   "execution_count": 33,
   "metadata": {},
   "outputs": [
    {
     "name": "stdout",
     "output_type": "stream",
     "text": [
      "total number of words in the string = 7\n"
     ]
    }
   ],
   "source": [
    "#9. Counting the number of words in a string\n",
    "String9 = \"This is the string with seven words\"\n",
    "\n",
    "print(\"total number of words in the string =\",len(String9.split()))\n"
   ]
  },
  {
   "cell_type": "code",
   "execution_count": 38,
   "metadata": {},
   "outputs": [
    {
     "name": "stdout",
     "output_type": "stream",
     "text": [
      "the concatenated string =  My name is Bhavya Gupta\n"
     ]
    }
   ],
   "source": [
    "#10. Concat 2 str without +\n",
    "String10 = \"My name is \"\n",
    "String1 = \"Bhavya Gupta\"\n",
    "combined_string = \"\".join([String10,String1])\n",
    "\n",
    "print(\"the concatenated string = \",combined_string)"
   ]
  },
  {
   "cell_type": "code",
   "execution_count": 47,
   "metadata": {},
   "outputs": [
    {
     "name": "stdout",
     "output_type": "stream",
     "text": [
      "[1, 1, 1, 3, 4, 5, 6, 7, 5, 3]\n"
     ]
    }
   ],
   "source": [
    "#11 remove all occuerances of an element:\n",
    "\n",
    "List11 = [1,1,1,2,3,4,5,6,7,5,3,2,2]\n",
    "element = 2\n",
    "while element in List11 :\n",
    "    List11.remove(element)\n",
    "    \n",
    "print(List11)"
   ]
  },
  {
   "cell_type": "code",
   "execution_count": 53,
   "metadata": {},
   "outputs": [
    {
     "name": "stdout",
     "output_type": "stream",
     "text": [
      "second largest number after 9 is  8\n"
     ]
    }
   ],
   "source": [
    "#12. Second largest int in a list\n",
    "\n",
    "List12 = [1,2,4,5,6,7,8,9,0]\n",
    "element = max(List12)\n",
    "while element in List12:\n",
    "    List12.remove(element)\n",
    "    \n",
    "print(f\"second largest number after {element} is  {max(List12)}\")"
   ]
  },
  {
   "cell_type": "code",
   "execution_count": 56,
   "metadata": {},
   "outputs": [
    {
     "name": "stdout",
     "output_type": "stream",
     "text": [
      "{1: 2, 2: 1, 3: 1, 4: 3, 5: 1, 6: 4, 7: 2}\n"
     ]
    }
   ],
   "source": [
    "#13. Count the occurance of each element in a list and then creating a dictionary for the same.\n",
    "List13 = [1,1,2,3,4,4,4,5,6,6,6,6,7,7]\n",
    "dict = {}\n",
    "\n",
    "for element in List13:\n",
    "    if element in dict:\n",
    "        dict[element] +=1\n",
    "    else:\n",
    "        dict[element] = 1\n",
    "        \n",
    "print(dict)\n",
    "            "
   ]
  },
  {
   "cell_type": "code",
   "execution_count": 59,
   "metadata": {},
   "outputs": [
    {
     "name": "stdout",
     "output_type": "stream",
     "text": [
      "[7, 6, 5, 5, 4, 4, 3, 2, 1, 1]\n"
     ]
    }
   ],
   "source": [
    "#14. Reversing a list without using builtin fucntions:\n",
    "\n",
    "List14 = [1,1,2,3,4,4,5,5,6,7]\n",
    "\n",
    "for i in range(len(List14)//2):\n",
    "    List14[i],List14[len(List14)-i-1] = List14[len(List14)-i-1],List14[i]\n",
    "    \n",
    "print(List14)"
   ]
  },
  {
   "cell_type": "code",
   "execution_count": 65,
   "metadata": {},
   "outputs": [
    {
     "name": "stdout",
     "output_type": "stream",
     "text": [
      "[1, 2, 3, 4, 5, 6, 7, 8]\n"
     ]
    }
   ],
   "source": [
    "#15. Find and remove the duplicates, preserving the original order\n",
    "\n",
    "List15 = [1,2,3,3,3,4,5,6,6,6,7,7,8,8]\n",
    "empt_list = []\n",
    "for element in (List15):\n",
    "    if element in empt_list:\n",
    "        continue\n",
    "    else:\n",
    "        empt_list.append(element)\n",
    "    \n",
    "print(empt_list)\n",
    "    "
   ]
  },
  {
   "cell_type": "code",
   "execution_count": 81,
   "metadata": {},
   "outputs": [
    {
     "name": "stdout",
     "output_type": "stream",
     "text": [
      "Not sorted\n"
     ]
    }
   ],
   "source": [
    "\n",
    "List16 = [1,2,3,4,5,6,7]\n",
    "Copy_lst = List16.copy()\n",
    "\n",
    "if List16.sort() == Copy_lst:\n",
    "    print(\"sorted in ascending\")\n",
    "    \n",
    "elif List16.sort(reverse=True)==Copy_lst:\n",
    "    print(\"Sorted in the Descendin order\")\n",
    "    \n",
    "else:\n",
    "    print(\"Not sorted\")\n",
    "\n"
   ]
  },
  {
   "cell_type": "code",
   "execution_count": 104,
   "metadata": {},
   "outputs": [
    {
     "name": "stdout",
     "output_type": "stream",
     "text": [
      "List is sorted in ASCENDING order\n"
     ]
    }
   ],
   "source": [
    "#16 To check if a given list is sorted or not.\n",
    "\n",
    "List16 = [2,3,4,5,6,78]\n",
    "Copy_lst = List16.copy()\n",
    "Copy_lst2 = List16.copy()\n",
    "List16.sort()\n",
    "Copy_lst.sort(reverse=True)\n",
    "# print(List16,Copy_lst,Copy_lst2)\n",
    "if List16==Copy_lst2:\n",
    "    print(\"List is sorted in ASCENDING order\")\n",
    "elif Copy_lst2 == Copy_lst:\n",
    "    print(\"List is sorted in DESCENDING order\")\n",
    "else:\n",
    "    print(\"List is not sorted\")"
   ]
  },
  {
   "cell_type": "code",
   "execution_count": 105,
   "metadata": {},
   "outputs": [
    {
     "name": "stdout",
     "output_type": "stream",
     "text": [
      "[1, 2, 3, 4, 5, 6, 7, 8, 9]\n"
     ]
    }
   ],
   "source": [
    "#17. Merging 2 sorted lists\n",
    "Sorted_list1 = [1,2,3,4,5]\n",
    "Sorted_list2 = [6,7,8,9]\n",
    "\n",
    "i,j = 0,0\n",
    "merged = []\n",
    "\n",
    "while i<len(Sorted_list1) and j<len(Sorted_list2):\n",
    "    if Sorted_list1[i]>= Sorted_list2[j]:\n",
    "        merged.append(Sorted_list2[j])\n",
    "        j+=1\n",
    "    else:\n",
    "        merged.append(Sorted_list1[i])\n",
    "        i+=1\n",
    "        \n",
    "while i<len(Sorted_list1):\n",
    "    merged.append(Sorted_list1[i])\n",
    "    i+=1\n",
    "    \n",
    "while j<len(Sorted_list2):\n",
    "    merged.append(Sorted_list2[j])\n",
    "    j+=1\n",
    "    \n",
    "print(merged)\n"
   ]
  },
  {
   "cell_type": "code",
   "execution_count": 109,
   "metadata": {},
   "outputs": [
    {
     "name": "stdout",
     "output_type": "stream",
     "text": [
      "[1, 2, 2, 2, 2, 3, 4, 6]\n"
     ]
    }
   ],
   "source": [
    "#18 Intersection of 2 strings:\n",
    "List18_1 = [1,2,2,2,2,3,4,5,6,7]\n",
    "List18_2 = [2,3,4,6,1,8,9,6,2,1]\n",
    "\n",
    "intersection = []\n",
    "\n",
    "for i in List18_1:\n",
    "    if i in List18_2:\n",
    "        intersection.append(i)\n",
    "        \n",
    "print(intersection)"
   ]
  },
  {
   "cell_type": "code",
   "execution_count": 111,
   "metadata": {},
   "outputs": [
    {
     "name": "stdout",
     "output_type": "stream",
     "text": [
      "{1, 2, 5, 6, 9}\n"
     ]
    }
   ],
   "source": [
    "#19 Union of 2 lists without duplicates:\n",
    "\n",
    "List19_1 = [1,2,3,4,4,5,6,1,2,8,9]\n",
    "List19_2 = [1,2,34,5,6,7,9,7,5,343,2,1,1]\n",
    "\n",
    "union = []\n",
    "\n",
    "for i in List19_1:\n",
    "    if i in List19_2:\n",
    "        union.append(i)\n",
    "        \n",
    "print(set(union))\n"
   ]
  },
  {
   "cell_type": "code",
   "execution_count": 113,
   "metadata": {},
   "outputs": [
    {
     "name": "stdout",
     "output_type": "stream",
     "text": [
      "[2, 3, 6, 5, 1, 4]\n"
     ]
    }
   ],
   "source": [
    "#20 Shuffling the list randomly without susing any builting methods\n",
    "\n",
    "import random \n",
    " \n",
    "List20 = [1,2,3,4,5,6]\n",
    "\n",
    "for i in List20:\n",
    "    j = random.randint(0, len(List20) - 1)\n",
    "    List20[i], List20[j] = List20[j], List20[i]\n",
    "\n",
    "print(List20)\n",
    "\n",
    "\n"
   ]
  },
  {
   "cell_type": "code",
   "execution_count": 115,
   "metadata": {},
   "outputs": [
    {
     "name": "stdout",
     "output_type": "stream",
     "text": [
      "(1, 2, 3, 4, 5, 6, 7)\n"
     ]
    }
   ],
   "source": [
    "#21. Taking 2 tuples as inout and returning a new one with no duplicates:\n",
    "\n",
    "Tuple21_1 = (1,2,3,4,3,6,6)\n",
    "Tuple21_2 = (2,3,4,5,6,7,1,1,1)\n",
    "\n",
    "def new_tup(Tuple21_1,Tuple21_2):\n",
    "    return tuple(set(Tuple21_1 + Tuple21_2))\n",
    "print(new_tup(Tuple21_1,Tuple21_2)) "
   ]
  },
  {
   "cell_type": "code",
   "execution_count": 122,
   "metadata": {},
   "outputs": [
    {
     "name": "stdout",
     "output_type": "stream",
     "text": [
      "{'3', '2', ',', '4', '1'}\n"
     ]
    }
   ],
   "source": [
    "#22. taking 2 sets as input and returing the intersection of 2\n",
    "\n",
    "Set22_1 = set(input(\"enter the set\"))#input given was 1,2,3,4\n",
    "Set22_2 = set(input(\"enter the 2nd set\"))#input given was 1,2,3,4,5,6,7,8\n",
    "print(Set22_1&Set22_2)"
   ]
  },
  {
   "cell_type": "code",
   "execution_count": 123,
   "metadata": {},
   "outputs": [
    {
     "name": "stdout",
     "output_type": "stream",
     "text": [
      "(1, 2, 3, 2, 3, 4)\n"
     ]
    }
   ],
   "source": [
    "#23. concatenation of 2 tuples and getting a single:\n",
    "\n",
    "def concat_tup(t1,t2):\n",
    "    return t1 + t2\n",
    "\n",
    "tuple1 = (1,2,3)\n",
    "tuple2 = (2,3,4)\n",
    "\n",
    "concat_tuple = concat_tup(tuple1,tuple2)\n",
    "print(concat_tuple)"
   ]
  },
  {
   "cell_type": "code",
   "execution_count": 2,
   "metadata": {},
   "outputs": [
    {
     "name": "stdout",
     "output_type": "stream",
     "text": [
      "Elements in the first set but not in the second set: {'ai', 'pw', 'gupta', 'pwskills', 'ml'}\n"
     ]
    }
   ],
   "source": [
    "#24. finfing different elements that belong to 2 cutom tuples:\n",
    "set1_input = input(\"Enter the first set of strings separated by commas: \") #input given: ('bhavya','ai', 'pw', 'gupta', 'pwskills', 'ml')\n",
    "set2_input = input(\"Enter the second set of strings separated by commas: \") #input given :(bhavya, artificial intel, machine leanring, pw_)\n",
    "\n",
    "\n",
    "set1 = set(set1_input.split(','))\n",
    "set2 = set(set2_input.split(','))\n",
    "\n",
    "difference = set1 - set2\n",
    "\n",
    "\n",
    "print(\"Elements in the first set but not in the second set:\",difference)\n"
   ]
  },
  {
   "cell_type": "code",
   "execution_count": 10,
   "metadata": {},
   "outputs": [
    {
     "name": "stdout",
     "output_type": "stream",
     "text": [
      "2,3\n"
     ]
    }
   ],
   "source": [
    "#25. Taking a tuple as input and extractng the range of indices\n",
    "def tup_range(original_tuple,start_index,end_index):\n",
    "    return original_tuple[start_index:end_index]\n",
    "    \n",
    "\n",
    "\n",
    "\n",
    "Tuple25 = input(\"enter the set of elements sepearted by a comma \") #1,2,3,4,5,6,7,8,9\n",
    "int25_start = int(input(\"enter the starting index\")) #2\n",
    "int25_end = int(input(\"enter hte endING index\")) #5\n",
    "\n",
    "Final_tup = tup_range(Tuple25,int25_start,int25_end)\n",
    "\n",
    "print(Final_tup)"
   ]
  },
  {
   "cell_type": "code",
   "execution_count": 14,
   "metadata": {},
   "outputs": [
    {
     "name": "stdout",
     "output_type": "stream",
     "text": [
      "{'l', 'a', 's', 'y', 'i', ' ', 'w', 'p', 'h', 'b', 'c', 'v'}\n"
     ]
    }
   ],
   "source": [
    "#26. Taking 2 sets of characters as input and printing the union of the two\n",
    "\n",
    "Set26_1 = set(input(\"enter the values separated by comma\")) #bhavya\n",
    "Set26_2 = set(input(\"enter the values separated by comma\")) #physics wallah\n",
    "\n",
    "print(Set26_1.union(Set26_2))"
   ]
  },
  {
   "cell_type": "code",
   "execution_count": 17,
   "metadata": {},
   "outputs": [
    {
     "name": "stdout",
     "output_type": "stream",
     "text": [
      "Minimum value: 1\n",
      "Maximum value: 545\n"
     ]
    }
   ],
   "source": [
    "#27. Function that return min and max of the tuple taken as input\n",
    "def find_max_min(values_tuple):\n",
    "    min_value, max_value = min(values_tuple), max(values_tuple)\n",
    "    return min_value, max_value\n",
    "\n",
    "Tuple27 = input(\"Enter the tuple of integers separated by commas: \") #3,5,43,543,545,3,3,22,35,1\n",
    "\n",
    "values_tuple = tuple(map(int, Tuple27.split(',')))\n",
    "\n",
    "min_val, max_val = find_max_min(values_tuple)\n",
    "\n",
    "print(\"Minimum value:\", min_val)\n",
    "print(\"Maximum value:\", max_val)\n"
   ]
  },
  {
   "cell_type": "code",
   "execution_count": 19,
   "metadata": {},
   "outputs": [
    {
     "name": "stdout",
     "output_type": "stream",
     "text": [
      "Set 1: {1, 2, 3, 4, 5}\n",
      "Set 2: {4, 5, 6, 7, 8}\n",
      "Union: {1, 2, 3, 4, 5, 6, 7, 8}\n",
      "Intersection: {4, 5}\n",
      "Difference (Set 1 - Set 2): {1, 2, 3}\n"
     ]
    }
   ],
   "source": [
    "#28. Prining union,intersection and difference of 2 sets\n",
    "set28_1 = {1, 2, 3, 4, 5}\n",
    "set28_2 ={4, 5, 6, 7, 8}\n",
    "\n",
    "union_set = set28_1.union(set28_2)\n",
    "\n",
    "intersection_set = set28_1.intersection(set28_2)\n",
    "\n",
    "difference_set = set28_1.difference(set28_2)\n",
    "\n",
    "print(\"Set 1:\", set28_1)\n",
    "print(\"Set 2:\", set28_2)\n",
    "print(\"Union:\", union_set)\n",
    "print(\"Intersection:\", intersection_set)\n",
    "print(\"Difference (Set 1 - Set 2):\", difference_set)"
   ]
  },
  {
   "cell_type": "code",
   "execution_count": 23,
   "metadata": {},
   "outputs": [
    {
     "name": "stdout",
     "output_type": "stream",
     "text": [
      "4\n"
     ]
    }
   ],
   "source": [
    "#29. Fucntion to return the count of an element in the tuple:\n",
    "\n",
    "tup29 = input(\"enter the values sepeated by a comma\") #1,2,3,4,1,2,1,1\n",
    "\n",
    "tup29 = tuple(map(int, tup29.split(',')))\n",
    "\n",
    "element = int(input(\"enter the vlaue to search for\")) #1\n",
    "count=0\n",
    "for i in tup29:\n",
    "    if i == element:\n",
    "        count+=1\n",
    "        \n",
    "print(count)"
   ]
  },
  {
   "cell_type": "code",
   "execution_count": 25,
   "metadata": {},
   "outputs": [
    {
     "name": "stdout",
     "output_type": "stream",
     "text": [
      "Symmetric Difference between the two sets: {'ai', 'gupta', 'ml', 'physics wallah', ' ds'}\n"
     ]
    }
   ],
   "source": [
    "#prinint the symmentric difference of 2 sets\n",
    "Set30_1 = input(\"Enter the first set of strings separated by commas: \") #bhavya,gupta,ml,ai\n",
    "\n",
    "Set30_2 = input(\"Enter the second set of strings separated by commas: \") #bhavya,physics wallah, ds\n",
    "\n",
    "set1 = set(Set30_1.split(','))\n",
    "set2 = set(Set30_2.split(','))\n",
    "\n",
    "symmetric_diff = set1.symmetric_difference(set2)\n",
    "\n",
    "print(\"Symmetric Difference between the two sets:\", symmetric_diff)\n"
   ]
  },
  {
   "cell_type": "code",
   "execution_count": 28,
   "metadata": {},
   "outputs": [
    {
     "name": "stdout",
     "output_type": "stream",
     "text": [
      "Word Frequencies: {'Bhavya': 1, 'Gupta': 1, 'ai': 2, 'ml': 1, 'ds': 1}\n"
     ]
    }
   ],
   "source": [
    "#31. Printing the frequency of the word in a lsit and plotting it to dictionary\n",
    "words_input = input(\"Enter a list of words separated by spaces: \")#Bhavya Gupta ai ai ml ds\n",
    "\n",
    "words_list = words_input.split()\n",
    "\n",
    "word_frequencies = {}\n",
    "\n",
    "for word in words_list:\n",
    "    if word in word_frequencies:\n",
    "        word_frequencies[word] += 1\n",
    "    else:\n",
    "        word_frequencies[word] = 1\n",
    "\n",
    "print(\"Word Frequencies:\", word_frequencies)\n"
   ]
  },
  {
   "cell_type": "code",
   "execution_count": 29,
   "metadata": {},
   "outputs": [
    {
     "name": "stdout",
     "output_type": "stream",
     "text": [
      "Merged Dictionary: {'apple': 3, 'banana': 5, 'orange': 6, 'kiwi': 2}\n"
     ]
    }
   ],
   "source": [
    "#32. Merging 2 dictionaries into one and then adding the values with common keys\n",
    "dict1 = {'apple': 3, 'banana': 2, 'orange': 5}  \n",
    "dict2 = {'banana': 3, 'orange': 1, 'kiwi': 2}   \n",
    "\n",
    "merged_dict = {}\n",
    "\n",
    "for key, value in dict1.items():\n",
    "    merged_dict[key] = value\n",
    "\n",
    "for key, value in dict2.items():\n",
    "    if key in merged_dict:\n",
    "        merged_dict[key] += value\n",
    "    else:\n",
    "        merged_dict[key] = value\n",
    "\n",
    "print(\"Merged Dictionary:\", merged_dict)\n"
   ]
  },
  {
   "cell_type": "code",
   "execution_count": 31,
   "metadata": {},
   "outputs": [
    {
     "name": "stdout",
     "output_type": "stream",
     "text": [
      "Value for the keys ['person', 'address', 'city']: Delhi\n"
     ]
    }
   ],
   "source": [
    "#33. Accessing the value in a nested dict.\n",
    "nested_dict = {\n",
    "    'person': {\n",
    "        'name': 'Bhavya',\n",
    "        'age': 21,\n",
    "        'address': {\n",
    "            'city': 'Delhi',\n",
    "            'zipcode': 110070\n",
    "        }\n",
    "    }\n",
    "}\n",
    "\n",
    "def access_nested_value(dictionary, keys):\n",
    "    current_value = dictionary  \n",
    "    for key in keys:\n",
    "        if key in current_value:\n",
    "            current_value = current_value[key] \n",
    "        else:\n",
    "            return None \n",
    "    return current_value\n",
    "\n",
    "keys_to_find = ['person', 'address', 'city']\n",
    "result = access_nested_value(nested_dict, keys_to_find)\n",
    "\n",
    "print(f\"Value for the keys {keys_to_find}: {result}\")\n"
   ]
  },
  {
   "cell_type": "code",
   "execution_count": 32,
   "metadata": {},
   "outputs": [
    {
     "name": "stdout",
     "output_type": "stream",
     "text": [
      "Sorted in ascending order: {'kiwi': 2, 'banana': 3, 'apple': 5, 'orange': 8}\n",
      "Sorted in descending order: {'orange': 8, 'apple': 5, 'banana': 3, 'kiwi': 2}\n"
     ]
    }
   ],
   "source": [
    "#34. Function to sort the dict by its values:\n",
    "def sort_dict_by_values(input_dict, ascending=True):\n",
    "    sorted_items = sorted(input_dict.items(), key=lambda x: x[1], reverse=not ascending)\n",
    "    \n",
    "    sorted_dict = dict(sorted_items)\n",
    "    \n",
    "    return sorted_dict\n",
    "\n",
    "sample_dict = {'apple': 5, 'banana': 3, 'orange': 8, 'kiwi': 2}\n",
    "\n",
    "sorted_dict_asc = sort_dict_by_values(sample_dict, ascending=True)\n",
    "print(\"Sorted in ascending order:\", sorted_dict_asc)\n",
    "\n",
    "sorted_dict_desc = sort_dict_by_values(sample_dict, ascending=False)\n",
    "print(\"Sorted in descending order:\", sorted_dict_desc)\n"
   ]
  },
  {
   "cell_type": "code",
   "execution_count": 33,
   "metadata": {},
   "outputs": [
    {
     "name": "stdout",
     "output_type": "stream",
     "text": [
      "Inverted dictionary: {5: ['apple', 'orange'], 3: ['banana', 'kiwi'], 8: ['mango']}\n"
     ]
    }
   ],
   "source": [
    "#35 Fucntion to inver the key value pairs:\n",
    "\n",
    "def invert_dict(input_dict):\n",
    "    inverted_dict = {}\n",
    "    \n",
    "    for key, value in input_dict.items():\n",
    "        if value in inverted_dict:\n",
    "            inverted_dict[value].append(key)\n",
    "        else:\n",
    "            inverted_dict[value] = [key]\n",
    "    \n",
    "    return inverted_dict\n",
    "\n",
    "sample_dict = {'apple': 5, 'banana': 3, 'orange': 5, 'kiwi': 3, 'mango': 8}\n",
    "inverted = invert_dict(sample_dict)\n",
    "print(\"Inverted dictionary:\", inverted)\n"
   ]
  },
  {
   "cell_type": "code",
   "execution_count": null,
   "metadata": {},
   "outputs": [],
   "source": []
  }
 ],
 "metadata": {
  "kernelspec": {
   "display_name": "Python 3",
   "language": "python",
   "name": "python3"
  },
  "language_info": {
   "codemirror_mode": {
    "name": "ipython",
    "version": 3
   },
   "file_extension": ".py",
   "mimetype": "text/x-python",
   "name": "python",
   "nbconvert_exporter": "python",
   "pygments_lexer": "ipython3",
   "version": "3.11.3"
  }
 },
 "nbformat": 4,
 "nbformat_minor": 2
}
